{
 "cells": [
  {
   "cell_type": "code",
   "execution_count": 26,
   "id": "2e941808",
   "metadata": {},
   "outputs": [],
   "source": [
    "lista_notas_champagnat = [2.5, 2.9, 0.2, 2.9]\n",
    "\n",
    "def calcular_media (lista_notas):\n",
    "    media = sum(lista_notas) / len(lista_notas)\n",
    "    return print(f'A media das notas é de : {media}')"
   ]
  },
  {
   "cell_type": "code",
   "execution_count": 27,
   "id": "b06f56c4",
   "metadata": {},
   "outputs": [
    {
     "name": "stdout",
     "output_type": "stream",
     "text": [
      "A media das notas é de : 2.125\n"
     ]
    }
   ],
   "source": [
    "\n",
    "media_calculada = calcular_media(lista_notas_champagnat)"
   ]
  },
  {
   "cell_type": "code",
   "execution_count": 29,
   "id": "c66a685a",
   "metadata": {},
   "outputs": [],
   "source": [
    "def avaliar_aluno (nota_aluno, nome_aluno):\n",
    "    if nota_aluno >= 9 and nota_aluno < 10:\n",
    "        print(f'Parabéns, {nome_aluno}, você é melhor que o Vinicius!')\n",
    "\n",
    "    if nota_aluno >= 7 and nota_aluno < 8.9:\n",
    "        print(f'Parabéns {nome_aluno}, mas podia ser melhor')\n",
    "\n",
    "    if nota_aluno >= 5 and nota_aluno < 6:\n",
    "        print(f'{nome_aluno}, Infelizmente sua nota não foi tão boa {nome_aluno}, mas talvez você consiga aumentar ela. ')\n",
    "\n",
    "    if nota_aluno >= 0 and nota_aluno < 4:\n",
    "        print(f'Nossa {nome_aluno}, infelizmente você vai para a recuperação')"
   ]
  },
  {
   "cell_type": "code",
   "execution_count": 30,
   "id": "3c93dc73",
   "metadata": {},
   "outputs": [
    {
     "name": "stdout",
     "output_type": "stream",
     "text": [
      "Nossa Ike, infelizmente você vai para a recuperação\n"
     ]
    }
   ],
   "source": [
    "avaliar_aluno(0, 'Ike')"
   ]
  }
 ],
 "metadata": {
  "kernelspec": {
   "display_name": "base",
   "language": "python",
   "name": "python3"
  },
  "language_info": {
   "codemirror_mode": {
    "name": "ipython",
    "version": 3
   },
   "file_extension": ".py",
   "mimetype": "text/x-python",
   "name": "python",
   "nbconvert_exporter": "python",
   "pygments_lexer": "ipython3",
   "version": "3.13.5"
  }
 },
 "nbformat": 4,
 "nbformat_minor": 5
}
